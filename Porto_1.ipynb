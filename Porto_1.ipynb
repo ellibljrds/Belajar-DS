{
  "nbformat": 4,
  "nbformat_minor": 0,
  "metadata": {
    "colab": {
      "name": "Porto 1.ipynb",
      "provenance": []
    },
    "kernelspec": {
      "name": "python3",
      "display_name": "Python 3"
    },
    "language_info": {
      "name": "python"
    }
  },
  "cells": [
    {
      "cell_type": "markdown",
      "metadata": {
        "id": "rTMSCG9vABlw"
      },
      "source": [
        "Halo semua, perkenalkan, saya Elli, dan saya sedang belajar Data Science. Kali ini, saya diminta untuk membuat porto. Sempat bingung mau buat Porto seperti apa karena saya sendiri masih sekitar 2 bulan belajar di Dibimbing.\n",
        "\n",
        "------------------------\n",
        "\n",
        "Di kantor tempat saya bekerja, kami baru mendapatkan software demo untuk bisa melakukan splitting produksi dengan cepat. Tapi syaratnya, format data yang dikirimkan harus sesuai dengan format software tersebut. Untuk bisa membuat tabel seperti yang diinginkan software, dibutuhkan waktu yang sangat lama karena perlu menggabungkan dan memasangkan tabel yang satu dengan tabel yang lain. Kalau dikerjakan dengan manual, maka akan membutuhkan waktu yang lama. Tapi, semuanya bisa dikejakan dalam waktu 30 menit lewat ilmu data science.\n",
        "\n",
        "-----------------------------------------------------------------------------\n",
        "\n",
        "Sekarang, saya ingin membagikan tips seputar cara menggabungkan tabel dan melakukan merging!\n"
      ]
    },
    {
      "cell_type": "code",
      "metadata": {
        "id": "rtaCAySK6hfN"
      },
      "source": [
        "import pandas as pd\n",
        "import numpy as np\n",
        "import re\n",
        "import matplotlib.pyplot as plt\n",
        "import seaborn as sns"
      ],
      "execution_count": null,
      "outputs": []
    },
    {
      "cell_type": "code",
      "metadata": {
        "colab": {
          "base_uri": "https://localhost:8080/"
        },
        "id": "LEu8EoVr6kys",
        "outputId": "252ebcb1-b4b4-47fc-e313-13104ec62dbd"
      },
      "source": [
        "from google.colab import drive\n",
        "drive.mount('/content/gdrive')"
      ],
      "execution_count": null,
      "outputs": [
        {
          "output_type": "stream",
          "name": "stdout",
          "text": [
            "Drive already mounted at /content/gdrive; to attempt to forcibly remount, call drive.mount(\"/content/gdrive\", force_remount=True).\n"
          ]
        }
      ]
    },
    {
      "cell_type": "code",
      "metadata": {
        "colab": {
          "base_uri": "https://localhost:8080/"
        },
        "id": "oNv63yR460sN",
        "outputId": "75fc604c-aeff-4996-97d0-8beac8de01da"
      },
      "source": [
        "%cd /content/gdrive/MyDrive/Belajar Data Science Dibimbing"
      ],
      "execution_count": null,
      "outputs": [
        {
          "output_type": "stream",
          "name": "stdout",
          "text": [
            "/content/gdrive/MyDrive/Belajar Data Science Dibimbing\n"
          ]
        }
      ]
    },
    {
      "cell_type": "markdown",
      "metadata": {
        "id": "MqiyVOYWBx6G"
      },
      "source": [
        "Pertama-tama, saya load dulu semua data yang digunakan. Berikut ini adalah keterangan dari setiap data#\n",
        "- Well: Sumur\n",
        "- Surface: Zona reservoir\n",
        "- PHIE: Porositas efektif. Kemampuan batuan untuk menyimpan fluida.\n",
        "- Perm: Permeabilitas. Kemampuan batuan untuk mengalirkan fluida.\n",
        "- NTG: Net to Gross. Presentasi dari reservoir"
      ]
    },
    {
      "cell_type": "code",
      "metadata": {
        "colab": {
          "base_uri": "https://localhost:8080/",
          "height": 266
        },
        "id": "Rfama0hb6uEt",
        "outputId": "ad2e671f-2021-4838-d99b-11a726cce846"
      },
      "source": [
        "df = pd.read_csv('Porto tarbert.csv')\n",
        "df_prop = pd.read_csv('Porto tarbert2.csv')\n",
        "df = df.rename(columns={'Well identifier':'Well'})\n",
        "df_prop = df_prop.rename(columns={'Zone log': 'Surface',\n",
        "                                  'Porosity': 'PHIE',\n",
        "                                  'Continuous': 'NTG'})\n",
        "df_prop.head(7)"
      ],
      "execution_count": null,
      "outputs": [
        {
          "output_type": "execute_result",
          "data": {
            "text/html": [
              "<div>\n",
              "<style scoped>\n",
              "    .dataframe tbody tr th:only-of-type {\n",
              "        vertical-align: middle;\n",
              "    }\n",
              "\n",
              "    .dataframe tbody tr th {\n",
              "        vertical-align: top;\n",
              "    }\n",
              "\n",
              "    .dataframe thead th {\n",
              "        text-align: right;\n",
              "    }\n",
              "</style>\n",
              "<table border=\"1\" class=\"dataframe\">\n",
              "  <thead>\n",
              "    <tr style=\"text-align: right;\">\n",
              "      <th></th>\n",
              "      <th>Well</th>\n",
              "      <th>Surface</th>\n",
              "      <th>PHIE</th>\n",
              "      <th>Perm</th>\n",
              "      <th>NTG</th>\n",
              "    </tr>\n",
              "  </thead>\n",
              "  <tbody>\n",
              "    <tr>\n",
              "      <th>0</th>\n",
              "      <td>A10</td>\n",
              "      <td>Zone Top_Tarbert</td>\n",
              "      <td>0.2468</td>\n",
              "      <td>105.2969</td>\n",
              "      <td>0.68</td>\n",
              "    </tr>\n",
              "    <tr>\n",
              "      <th>1</th>\n",
              "      <td>A10</td>\n",
              "      <td>Zone 1</td>\n",
              "      <td>0.2454</td>\n",
              "      <td>75.9825</td>\n",
              "      <td>0.22</td>\n",
              "    </tr>\n",
              "    <tr>\n",
              "      <th>2</th>\n",
              "      <td>A10</td>\n",
              "      <td>Zone Tarbert2</td>\n",
              "      <td>0.0870</td>\n",
              "      <td>94.0645</td>\n",
              "      <td>0.23</td>\n",
              "    </tr>\n",
              "    <tr>\n",
              "      <th>3</th>\n",
              "      <td>A10</td>\n",
              "      <td>Zone 2</td>\n",
              "      <td>0.2399</td>\n",
              "      <td>67.7691</td>\n",
              "      <td>0.00</td>\n",
              "    </tr>\n",
              "    <tr>\n",
              "      <th>4</th>\n",
              "      <td>A10</td>\n",
              "      <td>Zone Tarbert1</td>\n",
              "      <td>0.0870</td>\n",
              "      <td>69.8877</td>\n",
              "      <td>0.00</td>\n",
              "    </tr>\n",
              "    <tr>\n",
              "      <th>5</th>\n",
              "      <td>A10</td>\n",
              "      <td>Zone 3</td>\n",
              "      <td>0.2540</td>\n",
              "      <td>159.4569</td>\n",
              "      <td>0.00</td>\n",
              "    </tr>\n",
              "    <tr>\n",
              "      <th>6</th>\n",
              "      <td>A10</td>\n",
              "      <td>Zone Top_Ness</td>\n",
              "      <td>0.2670</td>\n",
              "      <td>133.8301</td>\n",
              "      <td>0.74</td>\n",
              "    </tr>\n",
              "  </tbody>\n",
              "</table>\n",
              "</div>"
            ],
            "text/plain": [
              "  Well           Surface    PHIE      Perm   NTG\n",
              "0  A10  Zone Top_Tarbert  0.2468  105.2969  0.68\n",
              "1  A10            Zone 1  0.2454   75.9825  0.22\n",
              "2  A10     Zone Tarbert2  0.0870   94.0645  0.23\n",
              "3  A10            Zone 2  0.2399   67.7691  0.00\n",
              "4  A10     Zone Tarbert1  0.0870   69.8877  0.00\n",
              "5  A10            Zone 3  0.2540  159.4569  0.00\n",
              "6  A10     Zone Top_Ness  0.2670  133.8301  0.74"
            ]
          },
          "metadata": {},
          "execution_count": 85
        }
      ]
    },
    {
      "cell_type": "markdown",
      "metadata": {
        "id": "svofDVtXCjz_"
      },
      "source": [
        "- MD: Data kedalaman dari setiap zona reservoir / Surface\n",
        "- Prod: Status produksi pada sumur dan zona terkait. Oil berarti sumurnya memproduksikan minyak (hooreee!), sementara Dry berarti sumurnya tidak ada minyak"
      ]
    },
    {
      "cell_type": "code",
      "metadata": {
        "colab": {
          "base_uri": "https://localhost:8080/",
          "height": 204
        },
        "id": "vQEPQ-Q3A_rO",
        "outputId": "239ceefe-3b70-4362-8edb-375b0d5748ba"
      },
      "source": [
        "df.head()"
      ],
      "execution_count": null,
      "outputs": [
        {
          "output_type": "execute_result",
          "data": {
            "text/html": [
              "<div>\n",
              "<style scoped>\n",
              "    .dataframe tbody tr th:only-of-type {\n",
              "        vertical-align: middle;\n",
              "    }\n",
              "\n",
              "    .dataframe tbody tr th {\n",
              "        vertical-align: top;\n",
              "    }\n",
              "\n",
              "    .dataframe thead th {\n",
              "        text-align: right;\n",
              "    }\n",
              "</style>\n",
              "<table border=\"1\" class=\"dataframe\">\n",
              "  <thead>\n",
              "    <tr style=\"text-align: right;\">\n",
              "      <th></th>\n",
              "      <th>Well</th>\n",
              "      <th>Surface</th>\n",
              "      <th>MD</th>\n",
              "      <th>Prod</th>\n",
              "    </tr>\n",
              "  </thead>\n",
              "  <tbody>\n",
              "    <tr>\n",
              "      <th>0</th>\n",
              "      <td>A10</td>\n",
              "      <td>Top_Tarbert</td>\n",
              "      <td>1754.67</td>\n",
              "      <td>Oil</td>\n",
              "    </tr>\n",
              "    <tr>\n",
              "      <th>1</th>\n",
              "      <td>A10</td>\n",
              "      <td>Bot_Tarbert</td>\n",
              "      <td>1807.02</td>\n",
              "      <td>Oil</td>\n",
              "    </tr>\n",
              "    <tr>\n",
              "      <th>2</th>\n",
              "      <td>A10</td>\n",
              "      <td>Tarbert2</td>\n",
              "      <td>1829.32</td>\n",
              "      <td>Dry</td>\n",
              "    </tr>\n",
              "    <tr>\n",
              "      <th>3</th>\n",
              "      <td>A10</td>\n",
              "      <td>Bot_Tarbert2</td>\n",
              "      <td>1842.11</td>\n",
              "      <td>NaN</td>\n",
              "    </tr>\n",
              "    <tr>\n",
              "      <th>4</th>\n",
              "      <td>A10</td>\n",
              "      <td>Tarbert1</td>\n",
              "      <td>1843.91</td>\n",
              "      <td>Dry</td>\n",
              "    </tr>\n",
              "  </tbody>\n",
              "</table>\n",
              "</div>"
            ],
            "text/plain": [
              "  Well       Surface       MD Prod\n",
              "0  A10   Top_Tarbert  1754.67  Oil\n",
              "1  A10   Bot_Tarbert  1807.02  Oil\n",
              "2  A10      Tarbert2  1829.32  Dry\n",
              "3  A10  Bot_Tarbert2  1842.11  NaN\n",
              "4  A10      Tarbert1  1843.91  Dry"
            ]
          },
          "metadata": {},
          "execution_count": 86
        }
      ]
    },
    {
      "cell_type": "markdown",
      "metadata": {
        "id": "pEsb2t74C62b"
      },
      "source": [
        "Dalam setiap zona reservoir, pasti ada Top dan Bottom. Top menandakan bagian atas zona sementara Bottom adalah bagian bawah zona. Sebenarnya, pekerjaan di kantor saya termasuk mudah, yakni, memindahkan MD yang ada di setiap bot ke kolom yang baru. Tapi masalahnya, data yang saya pegang sampai ribuan dan jika kita menggunakan filter excel biasa, maka akan sangat menguras waktu. Dan saya akan mencoba mengerjakannya dengan ilmu manipulasi data dan tabel berkat belajar dari Dibimbing."
      ]
    },
    {
      "cell_type": "markdown",
      "metadata": {
        "id": "cX7pE_xfEBuP"
      },
      "source": [
        "Langkah saya yang pertama adalah membuat data Frame baru. Di sini, karena semua format Bottom sama, maka saya tinggal membuat dataframe baru yang hanya ada di Bot dengan kode seperti ini:"
      ]
    },
    {
      "cell_type": "code",
      "metadata": {
        "colab": {
          "base_uri": "https://localhost:8080/",
          "height": 266
        },
        "id": "FheIPgBO8C2Z",
        "outputId": "001475b0-6fdb-4798-940f-163d71cb444f"
      },
      "source": [
        "bot  = df[df['Surface'].str.contains(\"Bot\")]\n",
        "bot.head(7)"
      ],
      "execution_count": null,
      "outputs": [
        {
          "output_type": "execute_result",
          "data": {
            "text/html": [
              "<div>\n",
              "<style scoped>\n",
              "    .dataframe tbody tr th:only-of-type {\n",
              "        vertical-align: middle;\n",
              "    }\n",
              "\n",
              "    .dataframe tbody tr th {\n",
              "        vertical-align: top;\n",
              "    }\n",
              "\n",
              "    .dataframe thead th {\n",
              "        text-align: right;\n",
              "    }\n",
              "</style>\n",
              "<table border=\"1\" class=\"dataframe\">\n",
              "  <thead>\n",
              "    <tr style=\"text-align: right;\">\n",
              "      <th></th>\n",
              "      <th>Well</th>\n",
              "      <th>Surface</th>\n",
              "      <th>MD</th>\n",
              "      <th>Prod</th>\n",
              "    </tr>\n",
              "  </thead>\n",
              "  <tbody>\n",
              "    <tr>\n",
              "      <th>1</th>\n",
              "      <td>A10</td>\n",
              "      <td>Bot_Tarbert</td>\n",
              "      <td>1807.02</td>\n",
              "      <td>Oil</td>\n",
              "    </tr>\n",
              "    <tr>\n",
              "      <th>3</th>\n",
              "      <td>A10</td>\n",
              "      <td>Bot_Tarbert2</td>\n",
              "      <td>1842.11</td>\n",
              "      <td>NaN</td>\n",
              "    </tr>\n",
              "    <tr>\n",
              "      <th>5</th>\n",
              "      <td>A10</td>\n",
              "      <td>Bot_Tarbert1</td>\n",
              "      <td>1852.70</td>\n",
              "      <td>NaN</td>\n",
              "    </tr>\n",
              "    <tr>\n",
              "      <th>7</th>\n",
              "      <td>A10</td>\n",
              "      <td>Bot_Ness</td>\n",
              "      <td>1878.07</td>\n",
              "      <td>NaN</td>\n",
              "    </tr>\n",
              "    <tr>\n",
              "      <th>9</th>\n",
              "      <td>A10</td>\n",
              "      <td>Bot_Etive</td>\n",
              "      <td>1961.83</td>\n",
              "      <td>NaN</td>\n",
              "    </tr>\n",
              "    <tr>\n",
              "      <th>11</th>\n",
              "      <td>A15</td>\n",
              "      <td>Bot_Tarbert</td>\n",
              "      <td>1883.33</td>\n",
              "      <td>NaN</td>\n",
              "    </tr>\n",
              "    <tr>\n",
              "      <th>13</th>\n",
              "      <td>A15</td>\n",
              "      <td>Bot_Tarbert2</td>\n",
              "      <td>1902.95</td>\n",
              "      <td>NaN</td>\n",
              "    </tr>\n",
              "  </tbody>\n",
              "</table>\n",
              "</div>"
            ],
            "text/plain": [
              "   Well       Surface       MD Prod\n",
              "1   A10   Bot_Tarbert  1807.02  Oil\n",
              "3   A10  Bot_Tarbert2  1842.11  NaN\n",
              "5   A10  Bot_Tarbert1  1852.70  NaN\n",
              "7   A10      Bot_Ness  1878.07  NaN\n",
              "9   A10     Bot_Etive  1961.83  NaN\n",
              "11  A15   Bot_Tarbert  1883.33  NaN\n",
              "13  A15  Bot_Tarbert2  1902.95  NaN"
            ]
          },
          "metadata": {},
          "execution_count": 87
        }
      ]
    },
    {
      "cell_type": "markdown",
      "metadata": {
        "id": "O-7OiV5iEx-n"
      },
      "source": [
        "Untuk kolom Produksi sebenarnya tidak diperlukan karena nilanya hampir semua NaN. Jadi bisa kita drop dengan menggunakan kode:"
      ]
    },
    {
      "cell_type": "code",
      "metadata": {
        "colab": {
          "base_uri": "https://localhost:8080/",
          "height": 289
        },
        "id": "MNl3I7tG-xZA",
        "outputId": "e3d4bc20-c12d-4762-f9a1-a73413a0323a"
      },
      "source": [
        "bot.drop('Prod', axis = 1, inplace = True)\n",
        "bot.head()"
      ],
      "execution_count": null,
      "outputs": [
        {
          "output_type": "stream",
          "name": "stderr",
          "text": [
            "/usr/local/lib/python3.7/dist-packages/pandas/core/frame.py:4174: SettingWithCopyWarning: \n",
            "A value is trying to be set on a copy of a slice from a DataFrame\n",
            "\n",
            "See the caveats in the documentation: https://pandas.pydata.org/pandas-docs/stable/user_guide/indexing.html#returning-a-view-versus-a-copy\n",
            "  errors=errors,\n"
          ]
        },
        {
          "output_type": "execute_result",
          "data": {
            "text/html": [
              "<div>\n",
              "<style scoped>\n",
              "    .dataframe tbody tr th:only-of-type {\n",
              "        vertical-align: middle;\n",
              "    }\n",
              "\n",
              "    .dataframe tbody tr th {\n",
              "        vertical-align: top;\n",
              "    }\n",
              "\n",
              "    .dataframe thead th {\n",
              "        text-align: right;\n",
              "    }\n",
              "</style>\n",
              "<table border=\"1\" class=\"dataframe\">\n",
              "  <thead>\n",
              "    <tr style=\"text-align: right;\">\n",
              "      <th></th>\n",
              "      <th>Well</th>\n",
              "      <th>Surface</th>\n",
              "      <th>MD</th>\n",
              "    </tr>\n",
              "  </thead>\n",
              "  <tbody>\n",
              "    <tr>\n",
              "      <th>1</th>\n",
              "      <td>A10</td>\n",
              "      <td>Bot_Tarbert</td>\n",
              "      <td>1807.02</td>\n",
              "    </tr>\n",
              "    <tr>\n",
              "      <th>3</th>\n",
              "      <td>A10</td>\n",
              "      <td>Bot_Tarbert2</td>\n",
              "      <td>1842.11</td>\n",
              "    </tr>\n",
              "    <tr>\n",
              "      <th>5</th>\n",
              "      <td>A10</td>\n",
              "      <td>Bot_Tarbert1</td>\n",
              "      <td>1852.70</td>\n",
              "    </tr>\n",
              "    <tr>\n",
              "      <th>7</th>\n",
              "      <td>A10</td>\n",
              "      <td>Bot_Ness</td>\n",
              "      <td>1878.07</td>\n",
              "    </tr>\n",
              "    <tr>\n",
              "      <th>9</th>\n",
              "      <td>A10</td>\n",
              "      <td>Bot_Etive</td>\n",
              "      <td>1961.83</td>\n",
              "    </tr>\n",
              "  </tbody>\n",
              "</table>\n",
              "</div>"
            ],
            "text/plain": [
              "  Well       Surface       MD\n",
              "1  A10   Bot_Tarbert  1807.02\n",
              "3  A10  Bot_Tarbert2  1842.11\n",
              "5  A10  Bot_Tarbert1  1852.70\n",
              "7  A10      Bot_Ness  1878.07\n",
              "9  A10     Bot_Etive  1961.83"
            ]
          },
          "metadata": {},
          "execution_count": 88
        }
      ]
    },
    {
      "cell_type": "markdown",
      "metadata": {
        "id": "_RDK86nLE5Dz"
      },
      "source": [
        "Langkah berikutnya adalah saya ingin mengganti nama kolom agar ketika digabung, tidak menjadi double (MD_x dan MD_y). Selain itu, saya ingin membuat agar nama surface yang ada di Top sama seperti dengan di Bottom. Jadi, saya menghapus semua tulisan Bot_ pada setiap row. Untuk melakukannya, saya menggunakan:"
      ]
    },
    {
      "cell_type": "code",
      "metadata": {
        "colab": {
          "base_uri": "https://localhost:8080/",
          "height": 306
        },
        "id": "QRhqO9RnVMXD",
        "outputId": "9403296b-4726-4098-85d4-b7d8f80e856b"
      },
      "source": [
        "bot['Surface'] = bot['Surface'].str[4:] ## Di sini saya menghapus 4 string pertama (karena semua format penulisannya sama) di kolom surface untuk menghapus Bot_.\n",
        "bot = bot.rename(columns={'MD': 'MD_Bot'})\n",
        "bot.head()"
      ],
      "execution_count": null,
      "outputs": [
        {
          "output_type": "stream",
          "name": "stderr",
          "text": [
            "/usr/local/lib/python3.7/dist-packages/ipykernel_launcher.py:1: SettingWithCopyWarning: \n",
            "A value is trying to be set on a copy of a slice from a DataFrame.\n",
            "Try using .loc[row_indexer,col_indexer] = value instead\n",
            "\n",
            "See the caveats in the documentation: https://pandas.pydata.org/pandas-docs/stable/user_guide/indexing.html#returning-a-view-versus-a-copy\n",
            "  \"\"\"Entry point for launching an IPython kernel.\n"
          ]
        },
        {
          "output_type": "execute_result",
          "data": {
            "text/html": [
              "<div>\n",
              "<style scoped>\n",
              "    .dataframe tbody tr th:only-of-type {\n",
              "        vertical-align: middle;\n",
              "    }\n",
              "\n",
              "    .dataframe tbody tr th {\n",
              "        vertical-align: top;\n",
              "    }\n",
              "\n",
              "    .dataframe thead th {\n",
              "        text-align: right;\n",
              "    }\n",
              "</style>\n",
              "<table border=\"1\" class=\"dataframe\">\n",
              "  <thead>\n",
              "    <tr style=\"text-align: right;\">\n",
              "      <th></th>\n",
              "      <th>Well</th>\n",
              "      <th>Surface</th>\n",
              "      <th>MD_Bot</th>\n",
              "    </tr>\n",
              "  </thead>\n",
              "  <tbody>\n",
              "    <tr>\n",
              "      <th>1</th>\n",
              "      <td>A10</td>\n",
              "      <td>Tarbert</td>\n",
              "      <td>1807.02</td>\n",
              "    </tr>\n",
              "    <tr>\n",
              "      <th>3</th>\n",
              "      <td>A10</td>\n",
              "      <td>Tarbert2</td>\n",
              "      <td>1842.11</td>\n",
              "    </tr>\n",
              "    <tr>\n",
              "      <th>5</th>\n",
              "      <td>A10</td>\n",
              "      <td>Tarbert1</td>\n",
              "      <td>1852.70</td>\n",
              "    </tr>\n",
              "    <tr>\n",
              "      <th>7</th>\n",
              "      <td>A10</td>\n",
              "      <td>Ness</td>\n",
              "      <td>1878.07</td>\n",
              "    </tr>\n",
              "    <tr>\n",
              "      <th>9</th>\n",
              "      <td>A10</td>\n",
              "      <td>Etive</td>\n",
              "      <td>1961.83</td>\n",
              "    </tr>\n",
              "  </tbody>\n",
              "</table>\n",
              "</div>"
            ],
            "text/plain": [
              "  Well   Surface   MD_Bot\n",
              "1  A10   Tarbert  1807.02\n",
              "3  A10  Tarbert2  1842.11\n",
              "5  A10  Tarbert1  1852.70\n",
              "7  A10      Ness  1878.07\n",
              "9  A10     Etive  1961.83"
            ]
          },
          "metadata": {},
          "execution_count": 89
        }
      ]
    },
    {
      "cell_type": "markdown",
      "metadata": {
        "id": "d3dibph-Fy58"
      },
      "source": [
        "Untuk semua Bot di kolom dataframe awal akan saya hapus karena sudah dibuatkan df yang baru. Selain itu, saya juga menghapus string Top_ pada Surface agar bisa sama seperti dataframe bot. Tujuannya adalah agar bisa dilakukan merging antara top dan bottom."
      ]
    },
    {
      "cell_type": "code",
      "metadata": {
        "colab": {
          "base_uri": "https://localhost:8080/",
          "height": 204
        },
        "id": "tU4pDjAce-AG",
        "outputId": "87b83d9c-3109-4ce0-e0e8-068b2a866566"
      },
      "source": [
        "df = df[~df.Surface.str.contains('|'.join(['Bot|bot']))]\n",
        "df = df.replace('Top_', '', regex=True)\n",
        "df.reset_index(drop=True, inplace=True)\n",
        "df.head()"
      ],
      "execution_count": null,
      "outputs": [
        {
          "output_type": "execute_result",
          "data": {
            "text/html": [
              "<div>\n",
              "<style scoped>\n",
              "    .dataframe tbody tr th:only-of-type {\n",
              "        vertical-align: middle;\n",
              "    }\n",
              "\n",
              "    .dataframe tbody tr th {\n",
              "        vertical-align: top;\n",
              "    }\n",
              "\n",
              "    .dataframe thead th {\n",
              "        text-align: right;\n",
              "    }\n",
              "</style>\n",
              "<table border=\"1\" class=\"dataframe\">\n",
              "  <thead>\n",
              "    <tr style=\"text-align: right;\">\n",
              "      <th></th>\n",
              "      <th>Well</th>\n",
              "      <th>Surface</th>\n",
              "      <th>MD</th>\n",
              "      <th>Prod</th>\n",
              "    </tr>\n",
              "  </thead>\n",
              "  <tbody>\n",
              "    <tr>\n",
              "      <th>0</th>\n",
              "      <td>A10</td>\n",
              "      <td>Tarbert</td>\n",
              "      <td>1754.67</td>\n",
              "      <td>Oil</td>\n",
              "    </tr>\n",
              "    <tr>\n",
              "      <th>1</th>\n",
              "      <td>A10</td>\n",
              "      <td>Tarbert2</td>\n",
              "      <td>1829.32</td>\n",
              "      <td>Dry</td>\n",
              "    </tr>\n",
              "    <tr>\n",
              "      <th>2</th>\n",
              "      <td>A10</td>\n",
              "      <td>Tarbert1</td>\n",
              "      <td>1843.91</td>\n",
              "      <td>Dry</td>\n",
              "    </tr>\n",
              "    <tr>\n",
              "      <th>3</th>\n",
              "      <td>A10</td>\n",
              "      <td>Ness</td>\n",
              "      <td>1856.40</td>\n",
              "      <td>Oil</td>\n",
              "    </tr>\n",
              "    <tr>\n",
              "      <th>4</th>\n",
              "      <td>A10</td>\n",
              "      <td>Etive</td>\n",
              "      <td>1926.08</td>\n",
              "      <td>Dry</td>\n",
              "    </tr>\n",
              "  </tbody>\n",
              "</table>\n",
              "</div>"
            ],
            "text/plain": [
              "  Well   Surface       MD Prod\n",
              "0  A10   Tarbert  1754.67  Oil\n",
              "1  A10  Tarbert2  1829.32  Dry\n",
              "2  A10  Tarbert1  1843.91  Dry\n",
              "3  A10      Ness  1856.40  Oil\n",
              "4  A10     Etive  1926.08  Dry"
            ]
          },
          "metadata": {},
          "execution_count": 90
        }
      ]
    },
    {
      "cell_type": "markdown",
      "metadata": {
        "id": "dyo4pVTFGZL-"
      },
      "source": [
        "Setelah semuanya sudah oke, maka tinggal melakukan merging antara dataframe utama dan dataframe bot. Di sini, saya menggunakan Well dan Surface sebagai index karena jika tidak, maka secara default Python akan menggabungkan semua data yang sama sehingga hasilnya akan salah. Jadi karena alasan ini well dan surface harus disamakan namanya."
      ]
    },
    {
      "cell_type": "code",
      "metadata": {
        "colab": {
          "base_uri": "https://localhost:8080/",
          "height": 204
        },
        "id": "TxV_czl-K-2Y",
        "outputId": "7c90d32f-06a4-46e0-ca83-8bdb24de8f36"
      },
      "source": [
        "df1 = pd.merge(df, bot, how = \"left\", on=[\"Well\", \"Surface\"])\n",
        "df1.head()"
      ],
      "execution_count": null,
      "outputs": [
        {
          "output_type": "execute_result",
          "data": {
            "text/html": [
              "<div>\n",
              "<style scoped>\n",
              "    .dataframe tbody tr th:only-of-type {\n",
              "        vertical-align: middle;\n",
              "    }\n",
              "\n",
              "    .dataframe tbody tr th {\n",
              "        vertical-align: top;\n",
              "    }\n",
              "\n",
              "    .dataframe thead th {\n",
              "        text-align: right;\n",
              "    }\n",
              "</style>\n",
              "<table border=\"1\" class=\"dataframe\">\n",
              "  <thead>\n",
              "    <tr style=\"text-align: right;\">\n",
              "      <th></th>\n",
              "      <th>Well</th>\n",
              "      <th>Surface</th>\n",
              "      <th>MD</th>\n",
              "      <th>Prod</th>\n",
              "      <th>MD_Bot</th>\n",
              "    </tr>\n",
              "  </thead>\n",
              "  <tbody>\n",
              "    <tr>\n",
              "      <th>0</th>\n",
              "      <td>A10</td>\n",
              "      <td>Tarbert</td>\n",
              "      <td>1754.67</td>\n",
              "      <td>Oil</td>\n",
              "      <td>1807.02</td>\n",
              "    </tr>\n",
              "    <tr>\n",
              "      <th>1</th>\n",
              "      <td>A10</td>\n",
              "      <td>Tarbert2</td>\n",
              "      <td>1829.32</td>\n",
              "      <td>Dry</td>\n",
              "      <td>1842.11</td>\n",
              "    </tr>\n",
              "    <tr>\n",
              "      <th>2</th>\n",
              "      <td>A10</td>\n",
              "      <td>Tarbert1</td>\n",
              "      <td>1843.91</td>\n",
              "      <td>Dry</td>\n",
              "      <td>1852.70</td>\n",
              "    </tr>\n",
              "    <tr>\n",
              "      <th>3</th>\n",
              "      <td>A10</td>\n",
              "      <td>Ness</td>\n",
              "      <td>1856.40</td>\n",
              "      <td>Oil</td>\n",
              "      <td>1878.07</td>\n",
              "    </tr>\n",
              "    <tr>\n",
              "      <th>4</th>\n",
              "      <td>A10</td>\n",
              "      <td>Etive</td>\n",
              "      <td>1926.08</td>\n",
              "      <td>Dry</td>\n",
              "      <td>1961.83</td>\n",
              "    </tr>\n",
              "  </tbody>\n",
              "</table>\n",
              "</div>"
            ],
            "text/plain": [
              "  Well   Surface       MD Prod   MD_Bot\n",
              "0  A10   Tarbert  1754.67  Oil  1807.02\n",
              "1  A10  Tarbert2  1829.32  Dry  1842.11\n",
              "2  A10  Tarbert1  1843.91  Dry  1852.70\n",
              "3  A10      Ness  1856.40  Oil  1878.07\n",
              "4  A10     Etive  1926.08  Dry  1961.83"
            ]
          },
          "metadata": {},
          "execution_count": 91
        }
      ]
    },
    {
      "cell_type": "markdown",
      "metadata": {
        "id": "R09jvYakHPvl"
      },
      "source": [
        "Ketika kita berbicara reservoir migas, maka sering kali ditanya oleh advisor \"Ketebalannya berapa?\". Untuk bisa menjawab pertanyaan ini, sangat mudah, yakni tinggal Top dikurangi Bottom."
      ]
    },
    {
      "cell_type": "code",
      "metadata": {
        "colab": {
          "base_uri": "https://localhost:8080/",
          "height": 235
        },
        "id": "nTFYxd0iLogn",
        "outputId": "82716f1f-cd6d-4696-ae12-93d51885fb28"
      },
      "source": [
        "df1['Thickness'] = df1['MD_Bot'] - df1['MD']\n",
        "df1 = df1[df1['Thickness'].notna()]\n",
        "df1.head(6)"
      ],
      "execution_count": null,
      "outputs": [
        {
          "output_type": "execute_result",
          "data": {
            "text/html": [
              "<div>\n",
              "<style scoped>\n",
              "    .dataframe tbody tr th:only-of-type {\n",
              "        vertical-align: middle;\n",
              "    }\n",
              "\n",
              "    .dataframe tbody tr th {\n",
              "        vertical-align: top;\n",
              "    }\n",
              "\n",
              "    .dataframe thead th {\n",
              "        text-align: right;\n",
              "    }\n",
              "</style>\n",
              "<table border=\"1\" class=\"dataframe\">\n",
              "  <thead>\n",
              "    <tr style=\"text-align: right;\">\n",
              "      <th></th>\n",
              "      <th>Well</th>\n",
              "      <th>Surface</th>\n",
              "      <th>MD</th>\n",
              "      <th>Prod</th>\n",
              "      <th>MD_Bot</th>\n",
              "      <th>Thickness</th>\n",
              "    </tr>\n",
              "  </thead>\n",
              "  <tbody>\n",
              "    <tr>\n",
              "      <th>0</th>\n",
              "      <td>A10</td>\n",
              "      <td>Tarbert</td>\n",
              "      <td>1754.67</td>\n",
              "      <td>Oil</td>\n",
              "      <td>1807.02</td>\n",
              "      <td>52.35</td>\n",
              "    </tr>\n",
              "    <tr>\n",
              "      <th>1</th>\n",
              "      <td>A10</td>\n",
              "      <td>Tarbert2</td>\n",
              "      <td>1829.32</td>\n",
              "      <td>Dry</td>\n",
              "      <td>1842.11</td>\n",
              "      <td>12.79</td>\n",
              "    </tr>\n",
              "    <tr>\n",
              "      <th>2</th>\n",
              "      <td>A10</td>\n",
              "      <td>Tarbert1</td>\n",
              "      <td>1843.91</td>\n",
              "      <td>Dry</td>\n",
              "      <td>1852.70</td>\n",
              "      <td>8.79</td>\n",
              "    </tr>\n",
              "    <tr>\n",
              "      <th>3</th>\n",
              "      <td>A10</td>\n",
              "      <td>Ness</td>\n",
              "      <td>1856.40</td>\n",
              "      <td>Oil</td>\n",
              "      <td>1878.07</td>\n",
              "      <td>21.67</td>\n",
              "    </tr>\n",
              "    <tr>\n",
              "      <th>4</th>\n",
              "      <td>A10</td>\n",
              "      <td>Etive</td>\n",
              "      <td>1926.08</td>\n",
              "      <td>Dry</td>\n",
              "      <td>1961.83</td>\n",
              "      <td>35.75</td>\n",
              "    </tr>\n",
              "    <tr>\n",
              "      <th>5</th>\n",
              "      <td>A15</td>\n",
              "      <td>Tarbert</td>\n",
              "      <td>1879.35</td>\n",
              "      <td>Oil</td>\n",
              "      <td>1883.33</td>\n",
              "      <td>3.98</td>\n",
              "    </tr>\n",
              "  </tbody>\n",
              "</table>\n",
              "</div>"
            ],
            "text/plain": [
              "  Well   Surface       MD Prod   MD_Bot  Thickness\n",
              "0  A10   Tarbert  1754.67  Oil  1807.02      52.35\n",
              "1  A10  Tarbert2  1829.32  Dry  1842.11      12.79\n",
              "2  A10  Tarbert1  1843.91  Dry  1852.70       8.79\n",
              "3  A10      Ness  1856.40  Oil  1878.07      21.67\n",
              "4  A10     Etive  1926.08  Dry  1961.83      35.75\n",
              "5  A15   Tarbert  1879.35  Oil  1883.33       3.98"
            ]
          },
          "metadata": {},
          "execution_count": 92
        }
      ]
    },
    {
      "cell_type": "markdown",
      "metadata": {
        "id": "h5aYDBjlHj_3"
      },
      "source": [
        "Biasanya, ketika melakukan pemodelan geologi, sering ada kesalahan ketika kita membuat top dan bottom sampai 2 kali. Contohnya adalah seperti di bawah. Pada well B9 ditemukan Zona Ness sebanyak 2 kali. "
      ]
    },
    {
      "cell_type": "code",
      "metadata": {
        "colab": {
          "base_uri": "https://localhost:8080/",
          "height": 80
        },
        "id": "s8Z1zjGkQPib",
        "outputId": "49feae86-57fc-464f-b3ea-7730ffd3b2dc"
      },
      "source": [
        "duplicateRowsDF = df1[df1.duplicated(['Well', 'Surface'])]\n",
        "duplicateRowsDF.head(10)\n"
      ],
      "execution_count": null,
      "outputs": [
        {
          "output_type": "execute_result",
          "data": {
            "text/html": [
              "<div>\n",
              "<style scoped>\n",
              "    .dataframe tbody tr th:only-of-type {\n",
              "        vertical-align: middle;\n",
              "    }\n",
              "\n",
              "    .dataframe tbody tr th {\n",
              "        vertical-align: top;\n",
              "    }\n",
              "\n",
              "    .dataframe thead th {\n",
              "        text-align: right;\n",
              "    }\n",
              "</style>\n",
              "<table border=\"1\" class=\"dataframe\">\n",
              "  <thead>\n",
              "    <tr style=\"text-align: right;\">\n",
              "      <th></th>\n",
              "      <th>Well</th>\n",
              "      <th>Surface</th>\n",
              "      <th>MD</th>\n",
              "      <th>Prod</th>\n",
              "      <th>MD_Bot</th>\n",
              "      <th>Thickness</th>\n",
              "    </tr>\n",
              "  </thead>\n",
              "  <tbody>\n",
              "    <tr>\n",
              "      <th>34</th>\n",
              "      <td>B9</td>\n",
              "      <td>Ness</td>\n",
              "      <td>1963.26</td>\n",
              "      <td>Oil</td>\n",
              "      <td>1971.26</td>\n",
              "      <td>8.0</td>\n",
              "    </tr>\n",
              "  </tbody>\n",
              "</table>\n",
              "</div>"
            ],
            "text/plain": [
              "   Well Surface       MD Prod   MD_Bot  Thickness\n",
              "34   B9    Ness  1963.26  Oil  1971.26        8.0"
            ]
          },
          "metadata": {},
          "execution_count": 93
        }
      ]
    },
    {
      "cell_type": "markdown",
      "metadata": {
        "id": "qbfpXhnyIVQ8"
      },
      "source": [
        "Yang mana yang harus dihapus kalau kita ketemu duplikat ini? Sebenarnya jawaban yang paling tepat adalah kita harus memeriksa kembali di software pemodelan geologi. Tapi di sini, untuk menghemat waktu, saya ingin menghapus Row dengan Thickness yang kecil (Thickness paling tinggi akan saya keep di data). Untuk melakukan hal ini, saya menggunakan:"
      ]
    },
    {
      "cell_type": "code",
      "metadata": {
        "colab": {
          "base_uri": "https://localhost:8080/",
          "height": 204
        },
        "id": "uLDFJm4z6Iiy",
        "outputId": "7da01ee2-1278-4315-ac64-b87b146874fd"
      },
      "source": [
        "c_maxes = df1.groupby(['Well', 'Surface']).Thickness.transform(max)\n",
        "df1 = df1.loc[df1.Thickness == c_maxes]\n",
        "df1.head()"
      ],
      "execution_count": null,
      "outputs": [
        {
          "output_type": "execute_result",
          "data": {
            "text/html": [
              "<div>\n",
              "<style scoped>\n",
              "    .dataframe tbody tr th:only-of-type {\n",
              "        vertical-align: middle;\n",
              "    }\n",
              "\n",
              "    .dataframe tbody tr th {\n",
              "        vertical-align: top;\n",
              "    }\n",
              "\n",
              "    .dataframe thead th {\n",
              "        text-align: right;\n",
              "    }\n",
              "</style>\n",
              "<table border=\"1\" class=\"dataframe\">\n",
              "  <thead>\n",
              "    <tr style=\"text-align: right;\">\n",
              "      <th></th>\n",
              "      <th>Well</th>\n",
              "      <th>Surface</th>\n",
              "      <th>MD</th>\n",
              "      <th>Prod</th>\n",
              "      <th>MD_Bot</th>\n",
              "      <th>Thickness</th>\n",
              "    </tr>\n",
              "  </thead>\n",
              "  <tbody>\n",
              "    <tr>\n",
              "      <th>0</th>\n",
              "      <td>A10</td>\n",
              "      <td>Tarbert</td>\n",
              "      <td>1754.67</td>\n",
              "      <td>Oil</td>\n",
              "      <td>1807.02</td>\n",
              "      <td>52.35</td>\n",
              "    </tr>\n",
              "    <tr>\n",
              "      <th>1</th>\n",
              "      <td>A10</td>\n",
              "      <td>Tarbert2</td>\n",
              "      <td>1829.32</td>\n",
              "      <td>Dry</td>\n",
              "      <td>1842.11</td>\n",
              "      <td>12.79</td>\n",
              "    </tr>\n",
              "    <tr>\n",
              "      <th>2</th>\n",
              "      <td>A10</td>\n",
              "      <td>Tarbert1</td>\n",
              "      <td>1843.91</td>\n",
              "      <td>Dry</td>\n",
              "      <td>1852.70</td>\n",
              "      <td>8.79</td>\n",
              "    </tr>\n",
              "    <tr>\n",
              "      <th>3</th>\n",
              "      <td>A10</td>\n",
              "      <td>Ness</td>\n",
              "      <td>1856.40</td>\n",
              "      <td>Oil</td>\n",
              "      <td>1878.07</td>\n",
              "      <td>21.67</td>\n",
              "    </tr>\n",
              "    <tr>\n",
              "      <th>4</th>\n",
              "      <td>A10</td>\n",
              "      <td>Etive</td>\n",
              "      <td>1926.08</td>\n",
              "      <td>Dry</td>\n",
              "      <td>1961.83</td>\n",
              "      <td>35.75</td>\n",
              "    </tr>\n",
              "  </tbody>\n",
              "</table>\n",
              "</div>"
            ],
            "text/plain": [
              "  Well   Surface       MD Prod   MD_Bot  Thickness\n",
              "0  A10   Tarbert  1754.67  Oil  1807.02      52.35\n",
              "1  A10  Tarbert2  1829.32  Dry  1842.11      12.79\n",
              "2  A10  Tarbert1  1843.91  Dry  1852.70       8.79\n",
              "3  A10      Ness  1856.40  Oil  1878.07      21.67\n",
              "4  A10     Etive  1926.08  Dry  1961.83      35.75"
            ]
          },
          "metadata": {},
          "execution_count": 95
        }
      ]
    },
    {
      "cell_type": "code",
      "metadata": {
        "colab": {
          "base_uri": "https://localhost:8080/",
          "height": 204
        },
        "id": "OSWDriRB6q4g",
        "outputId": "cd3fa2b8-2b16-4889-d48f-08fea738fe1c"
      },
      "source": [
        "df1.reset_index(drop=True, inplace=True)\n",
        "df1.head()"
      ],
      "execution_count": null,
      "outputs": [
        {
          "output_type": "execute_result",
          "data": {
            "text/html": [
              "<div>\n",
              "<style scoped>\n",
              "    .dataframe tbody tr th:only-of-type {\n",
              "        vertical-align: middle;\n",
              "    }\n",
              "\n",
              "    .dataframe tbody tr th {\n",
              "        vertical-align: top;\n",
              "    }\n",
              "\n",
              "    .dataframe thead th {\n",
              "        text-align: right;\n",
              "    }\n",
              "</style>\n",
              "<table border=\"1\" class=\"dataframe\">\n",
              "  <thead>\n",
              "    <tr style=\"text-align: right;\">\n",
              "      <th></th>\n",
              "      <th>Well</th>\n",
              "      <th>Surface</th>\n",
              "      <th>MD</th>\n",
              "      <th>Prod</th>\n",
              "      <th>MD_Bot</th>\n",
              "      <th>Thickness</th>\n",
              "    </tr>\n",
              "  </thead>\n",
              "  <tbody>\n",
              "    <tr>\n",
              "      <th>0</th>\n",
              "      <td>A10</td>\n",
              "      <td>Tarbert</td>\n",
              "      <td>1754.67</td>\n",
              "      <td>Oil</td>\n",
              "      <td>1807.02</td>\n",
              "      <td>52.35</td>\n",
              "    </tr>\n",
              "    <tr>\n",
              "      <th>1</th>\n",
              "      <td>A10</td>\n",
              "      <td>Tarbert2</td>\n",
              "      <td>1829.32</td>\n",
              "      <td>Dry</td>\n",
              "      <td>1842.11</td>\n",
              "      <td>12.79</td>\n",
              "    </tr>\n",
              "    <tr>\n",
              "      <th>2</th>\n",
              "      <td>A10</td>\n",
              "      <td>Tarbert1</td>\n",
              "      <td>1843.91</td>\n",
              "      <td>Dry</td>\n",
              "      <td>1852.70</td>\n",
              "      <td>8.79</td>\n",
              "    </tr>\n",
              "    <tr>\n",
              "      <th>3</th>\n",
              "      <td>A10</td>\n",
              "      <td>Ness</td>\n",
              "      <td>1856.40</td>\n",
              "      <td>Oil</td>\n",
              "      <td>1878.07</td>\n",
              "      <td>21.67</td>\n",
              "    </tr>\n",
              "    <tr>\n",
              "      <th>4</th>\n",
              "      <td>A10</td>\n",
              "      <td>Etive</td>\n",
              "      <td>1926.08</td>\n",
              "      <td>Dry</td>\n",
              "      <td>1961.83</td>\n",
              "      <td>35.75</td>\n",
              "    </tr>\n",
              "  </tbody>\n",
              "</table>\n",
              "</div>"
            ],
            "text/plain": [
              "  Well   Surface       MD Prod   MD_Bot  Thickness\n",
              "0  A10   Tarbert  1754.67  Oil  1807.02      52.35\n",
              "1  A10  Tarbert2  1829.32  Dry  1842.11      12.79\n",
              "2  A10  Tarbert1  1843.91  Dry  1852.70       8.79\n",
              "3  A10      Ness  1856.40  Oil  1878.07      21.67\n",
              "4  A10     Etive  1926.08  Dry  1961.83      35.75"
            ]
          },
          "metadata": {},
          "execution_count": 96
        }
      ]
    },
    {
      "cell_type": "markdown",
      "metadata": {
        "id": "zoIebYCAJKIa"
      },
      "source": [
        "Berikutnya, jangan lupa kalau kita masih punya 1 data frame lagi yang harus di merge (data frame yang berisi properti batuan. Sama seperti langkah sebelumnya, saya ingin menyamakan nama di Well dan Surface agar bisa dilakukan merging dengan sempurna."
      ]
    },
    {
      "cell_type": "code",
      "metadata": {
        "colab": {
          "base_uri": "https://localhost:8080/",
          "height": 204
        },
        "id": "RfUYplIkKj5D",
        "outputId": "1e4e8bd4-17ad-46d9-b7a7-dadf773bd459"
      },
      "source": [
        "df_prop = df_prop.rename(columns={'Zone log': 'Surface',\n",
        "                                  'Porosity': 'PHIE',\n",
        "                                  'Continuous': 'NTG'})\n",
        "df_prop['Surface'] = (df_prop.Surface.str.replace('Zone ', ''))\n",
        "df_prop['Surface'] = (df_prop.Surface.str.replace('Top_', ''))\n",
        "df_prop.head()"
      ],
      "execution_count": null,
      "outputs": [
        {
          "output_type": "execute_result",
          "data": {
            "text/html": [
              "<div>\n",
              "<style scoped>\n",
              "    .dataframe tbody tr th:only-of-type {\n",
              "        vertical-align: middle;\n",
              "    }\n",
              "\n",
              "    .dataframe tbody tr th {\n",
              "        vertical-align: top;\n",
              "    }\n",
              "\n",
              "    .dataframe thead th {\n",
              "        text-align: right;\n",
              "    }\n",
              "</style>\n",
              "<table border=\"1\" class=\"dataframe\">\n",
              "  <thead>\n",
              "    <tr style=\"text-align: right;\">\n",
              "      <th></th>\n",
              "      <th>Well</th>\n",
              "      <th>Surface</th>\n",
              "      <th>PHIE</th>\n",
              "      <th>Perm</th>\n",
              "      <th>NTG</th>\n",
              "    </tr>\n",
              "  </thead>\n",
              "  <tbody>\n",
              "    <tr>\n",
              "      <th>0</th>\n",
              "      <td>A10</td>\n",
              "      <td>Tarbert</td>\n",
              "      <td>0.2468</td>\n",
              "      <td>105.2969</td>\n",
              "      <td>0.68</td>\n",
              "    </tr>\n",
              "    <tr>\n",
              "      <th>1</th>\n",
              "      <td>A10</td>\n",
              "      <td>1</td>\n",
              "      <td>0.2454</td>\n",
              "      <td>75.9825</td>\n",
              "      <td>0.22</td>\n",
              "    </tr>\n",
              "    <tr>\n",
              "      <th>2</th>\n",
              "      <td>A10</td>\n",
              "      <td>Tarbert2</td>\n",
              "      <td>0.0870</td>\n",
              "      <td>94.0645</td>\n",
              "      <td>0.23</td>\n",
              "    </tr>\n",
              "    <tr>\n",
              "      <th>3</th>\n",
              "      <td>A10</td>\n",
              "      <td>2</td>\n",
              "      <td>0.2399</td>\n",
              "      <td>67.7691</td>\n",
              "      <td>0.00</td>\n",
              "    </tr>\n",
              "    <tr>\n",
              "      <th>4</th>\n",
              "      <td>A10</td>\n",
              "      <td>Tarbert1</td>\n",
              "      <td>0.0870</td>\n",
              "      <td>69.8877</td>\n",
              "      <td>0.00</td>\n",
              "    </tr>\n",
              "  </tbody>\n",
              "</table>\n",
              "</div>"
            ],
            "text/plain": [
              "  Well   Surface    PHIE      Perm   NTG\n",
              "0  A10   Tarbert  0.2468  105.2969  0.68\n",
              "1  A10         1  0.2454   75.9825  0.22\n",
              "2  A10  Tarbert2  0.0870   94.0645  0.23\n",
              "3  A10         2  0.2399   67.7691  0.00\n",
              "4  A10  Tarbert1  0.0870   69.8877  0.00"
            ]
          },
          "metadata": {},
          "execution_count": 97
        }
      ]
    },
    {
      "cell_type": "markdown",
      "metadata": {
        "id": "Ooac9bPxJo9L"
      },
      "source": [
        "Merging dilakukan sama seperti sebelumnya"
      ]
    },
    {
      "cell_type": "code",
      "metadata": {
        "colab": {
          "base_uri": "https://localhost:8080/",
          "height": 669
        },
        "id": "BTxSZ8VMMtDy",
        "outputId": "24c8fb20-6e76-474c-e9eb-f62cd5ba14cf"
      },
      "source": [
        "df2 = pd.merge(df1, df_prop, how = \"left\", on=[\"Well\", \"Surface\"])\n",
        "df2.head(20)"
      ],
      "execution_count": null,
      "outputs": [
        {
          "output_type": "execute_result",
          "data": {
            "text/html": [
              "<div>\n",
              "<style scoped>\n",
              "    .dataframe tbody tr th:only-of-type {\n",
              "        vertical-align: middle;\n",
              "    }\n",
              "\n",
              "    .dataframe tbody tr th {\n",
              "        vertical-align: top;\n",
              "    }\n",
              "\n",
              "    .dataframe thead th {\n",
              "        text-align: right;\n",
              "    }\n",
              "</style>\n",
              "<table border=\"1\" class=\"dataframe\">\n",
              "  <thead>\n",
              "    <tr style=\"text-align: right;\">\n",
              "      <th></th>\n",
              "      <th>Well</th>\n",
              "      <th>Surface</th>\n",
              "      <th>MD</th>\n",
              "      <th>Prod</th>\n",
              "      <th>MD_Bot</th>\n",
              "      <th>Thickness</th>\n",
              "      <th>PHIE</th>\n",
              "      <th>Perm</th>\n",
              "      <th>NTG</th>\n",
              "    </tr>\n",
              "  </thead>\n",
              "  <tbody>\n",
              "    <tr>\n",
              "      <th>0</th>\n",
              "      <td>A10</td>\n",
              "      <td>Tarbert</td>\n",
              "      <td>1754.67</td>\n",
              "      <td>Oil</td>\n",
              "      <td>1807.02</td>\n",
              "      <td>52.35</td>\n",
              "      <td>0.2468</td>\n",
              "      <td>105.2969</td>\n",
              "      <td>0.68</td>\n",
              "    </tr>\n",
              "    <tr>\n",
              "      <th>1</th>\n",
              "      <td>A10</td>\n",
              "      <td>Tarbert2</td>\n",
              "      <td>1829.32</td>\n",
              "      <td>Dry</td>\n",
              "      <td>1842.11</td>\n",
              "      <td>12.79</td>\n",
              "      <td>0.0870</td>\n",
              "      <td>94.0645</td>\n",
              "      <td>0.23</td>\n",
              "    </tr>\n",
              "    <tr>\n",
              "      <th>2</th>\n",
              "      <td>A10</td>\n",
              "      <td>Tarbert1</td>\n",
              "      <td>1843.91</td>\n",
              "      <td>Dry</td>\n",
              "      <td>1852.70</td>\n",
              "      <td>8.79</td>\n",
              "      <td>0.0870</td>\n",
              "      <td>69.8877</td>\n",
              "      <td>0.00</td>\n",
              "    </tr>\n",
              "    <tr>\n",
              "      <th>3</th>\n",
              "      <td>A10</td>\n",
              "      <td>Ness</td>\n",
              "      <td>1856.40</td>\n",
              "      <td>Oil</td>\n",
              "      <td>1878.07</td>\n",
              "      <td>21.67</td>\n",
              "      <td>0.2670</td>\n",
              "      <td>133.8301</td>\n",
              "      <td>0.74</td>\n",
              "    </tr>\n",
              "    <tr>\n",
              "      <th>4</th>\n",
              "      <td>A10</td>\n",
              "      <td>Etive</td>\n",
              "      <td>1926.08</td>\n",
              "      <td>Dry</td>\n",
              "      <td>1961.83</td>\n",
              "      <td>35.75</td>\n",
              "      <td>NaN</td>\n",
              "      <td>NaN</td>\n",
              "      <td>NaN</td>\n",
              "    </tr>\n",
              "    <tr>\n",
              "      <th>5</th>\n",
              "      <td>A15</td>\n",
              "      <td>Tarbert</td>\n",
              "      <td>1879.35</td>\n",
              "      <td>Oil</td>\n",
              "      <td>1883.33</td>\n",
              "      <td>3.98</td>\n",
              "      <td>0.2198</td>\n",
              "      <td>375.4153</td>\n",
              "      <td>0.83</td>\n",
              "    </tr>\n",
              "    <tr>\n",
              "      <th>6</th>\n",
              "      <td>A15</td>\n",
              "      <td>Tarbert2</td>\n",
              "      <td>1885.48</td>\n",
              "      <td>Dry</td>\n",
              "      <td>1902.95</td>\n",
              "      <td>17.47</td>\n",
              "      <td>0.0670</td>\n",
              "      <td>85.8504</td>\n",
              "      <td>0.24</td>\n",
              "    </tr>\n",
              "    <tr>\n",
              "      <th>7</th>\n",
              "      <td>A15</td>\n",
              "      <td>Tarbert1</td>\n",
              "      <td>1905.73</td>\n",
              "      <td>Dry</td>\n",
              "      <td>1920.09</td>\n",
              "      <td>14.36</td>\n",
              "      <td>0.0560</td>\n",
              "      <td>37.0056</td>\n",
              "      <td>0.67</td>\n",
              "    </tr>\n",
              "    <tr>\n",
              "      <th>8</th>\n",
              "      <td>A15</td>\n",
              "      <td>Ness</td>\n",
              "      <td>1922.59</td>\n",
              "      <td>Oil</td>\n",
              "      <td>1992.22</td>\n",
              "      <td>69.63</td>\n",
              "      <td>0.1905</td>\n",
              "      <td>158.4891</td>\n",
              "      <td>0.74</td>\n",
              "    </tr>\n",
              "    <tr>\n",
              "      <th>9</th>\n",
              "      <td>A15</td>\n",
              "      <td>Etive</td>\n",
              "      <td>2074.52</td>\n",
              "      <td>Dry</td>\n",
              "      <td>2082.78</td>\n",
              "      <td>8.26</td>\n",
              "      <td>NaN</td>\n",
              "      <td>NaN</td>\n",
              "      <td>NaN</td>\n",
              "    </tr>\n",
              "    <tr>\n",
              "      <th>10</th>\n",
              "      <td>A16</td>\n",
              "      <td>Tarbert</td>\n",
              "      <td>1805.47</td>\n",
              "      <td>Oil</td>\n",
              "      <td>1810.83</td>\n",
              "      <td>5.36</td>\n",
              "      <td>0.2380</td>\n",
              "      <td>75.3648</td>\n",
              "      <td>0.67</td>\n",
              "    </tr>\n",
              "    <tr>\n",
              "      <th>11</th>\n",
              "      <td>A16</td>\n",
              "      <td>Tarbert2</td>\n",
              "      <td>1815.92</td>\n",
              "      <td>Dry</td>\n",
              "      <td>1829.07</td>\n",
              "      <td>13.15</td>\n",
              "      <td>0.0950</td>\n",
              "      <td>88.6867</td>\n",
              "      <td>0.25</td>\n",
              "    </tr>\n",
              "    <tr>\n",
              "      <th>12</th>\n",
              "      <td>A16</td>\n",
              "      <td>Tarbert1</td>\n",
              "      <td>1839.55</td>\n",
              "      <td>Dry</td>\n",
              "      <td>1859.93</td>\n",
              "      <td>20.38</td>\n",
              "      <td>0.0900</td>\n",
              "      <td>29.8770</td>\n",
              "      <td>0.12</td>\n",
              "    </tr>\n",
              "    <tr>\n",
              "      <th>13</th>\n",
              "      <td>A16</td>\n",
              "      <td>Ness</td>\n",
              "      <td>1875.86</td>\n",
              "      <td>Oil</td>\n",
              "      <td>1936.51</td>\n",
              "      <td>60.65</td>\n",
              "      <td>0.2315</td>\n",
              "      <td>139.9157</td>\n",
              "      <td>0.77</td>\n",
              "    </tr>\n",
              "    <tr>\n",
              "      <th>14</th>\n",
              "      <td>A16</td>\n",
              "      <td>Etive</td>\n",
              "      <td>2006.71</td>\n",
              "      <td>Dry</td>\n",
              "      <td>2038.35</td>\n",
              "      <td>31.64</td>\n",
              "      <td>NaN</td>\n",
              "      <td>NaN</td>\n",
              "      <td>NaN</td>\n",
              "    </tr>\n",
              "    <tr>\n",
              "      <th>15</th>\n",
              "      <td>B2</td>\n",
              "      <td>Tarbert</td>\n",
              "      <td>2012.93</td>\n",
              "      <td>Oil</td>\n",
              "      <td>2016.35</td>\n",
              "      <td>3.42</td>\n",
              "      <td>0.2319</td>\n",
              "      <td>92.6621</td>\n",
              "      <td>0.80</td>\n",
              "    </tr>\n",
              "    <tr>\n",
              "      <th>16</th>\n",
              "      <td>B2</td>\n",
              "      <td>Tarbert1</td>\n",
              "      <td>2039.69</td>\n",
              "      <td>Dry</td>\n",
              "      <td>2081.06</td>\n",
              "      <td>41.37</td>\n",
              "      <td>0.0810</td>\n",
              "      <td>11.6606</td>\n",
              "      <td>0.00</td>\n",
              "    </tr>\n",
              "    <tr>\n",
              "      <th>17</th>\n",
              "      <td>B2</td>\n",
              "      <td>Ness</td>\n",
              "      <td>2120.32</td>\n",
              "      <td>Oil</td>\n",
              "      <td>2140.62</td>\n",
              "      <td>20.30</td>\n",
              "      <td>0.2142</td>\n",
              "      <td>113.1112</td>\n",
              "      <td>0.52</td>\n",
              "    </tr>\n",
              "    <tr>\n",
              "      <th>18</th>\n",
              "      <td>B2</td>\n",
              "      <td>Etive</td>\n",
              "      <td>2199.49</td>\n",
              "      <td>Dry</td>\n",
              "      <td>2226.67</td>\n",
              "      <td>27.18</td>\n",
              "      <td>NaN</td>\n",
              "      <td>NaN</td>\n",
              "      <td>NaN</td>\n",
              "    </tr>\n",
              "    <tr>\n",
              "      <th>19</th>\n",
              "      <td>B4</td>\n",
              "      <td>Tarbert</td>\n",
              "      <td>2063.60</td>\n",
              "      <td>Oil</td>\n",
              "      <td>2069.51</td>\n",
              "      <td>5.91</td>\n",
              "      <td>0.1921</td>\n",
              "      <td>22.0153</td>\n",
              "      <td>0.71</td>\n",
              "    </tr>\n",
              "  </tbody>\n",
              "</table>\n",
              "</div>"
            ],
            "text/plain": [
              "   Well   Surface       MD Prod   MD_Bot  Thickness    PHIE      Perm   NTG\n",
              "0   A10   Tarbert  1754.67  Oil  1807.02      52.35  0.2468  105.2969  0.68\n",
              "1   A10  Tarbert2  1829.32  Dry  1842.11      12.79  0.0870   94.0645  0.23\n",
              "2   A10  Tarbert1  1843.91  Dry  1852.70       8.79  0.0870   69.8877  0.00\n",
              "3   A10      Ness  1856.40  Oil  1878.07      21.67  0.2670  133.8301  0.74\n",
              "4   A10     Etive  1926.08  Dry  1961.83      35.75     NaN       NaN   NaN\n",
              "5   A15   Tarbert  1879.35  Oil  1883.33       3.98  0.2198  375.4153  0.83\n",
              "6   A15  Tarbert2  1885.48  Dry  1902.95      17.47  0.0670   85.8504  0.24\n",
              "7   A15  Tarbert1  1905.73  Dry  1920.09      14.36  0.0560   37.0056  0.67\n",
              "8   A15      Ness  1922.59  Oil  1992.22      69.63  0.1905  158.4891  0.74\n",
              "9   A15     Etive  2074.52  Dry  2082.78       8.26     NaN       NaN   NaN\n",
              "10  A16   Tarbert  1805.47  Oil  1810.83       5.36  0.2380   75.3648  0.67\n",
              "11  A16  Tarbert2  1815.92  Dry  1829.07      13.15  0.0950   88.6867  0.25\n",
              "12  A16  Tarbert1  1839.55  Dry  1859.93      20.38  0.0900   29.8770  0.12\n",
              "13  A16      Ness  1875.86  Oil  1936.51      60.65  0.2315  139.9157  0.77\n",
              "14  A16     Etive  2006.71  Dry  2038.35      31.64     NaN       NaN   NaN\n",
              "15   B2   Tarbert  2012.93  Oil  2016.35       3.42  0.2319   92.6621  0.80\n",
              "16   B2  Tarbert1  2039.69  Dry  2081.06      41.37  0.0810   11.6606  0.00\n",
              "17   B2      Ness  2120.32  Oil  2140.62      20.30  0.2142  113.1112  0.52\n",
              "18   B2     Etive  2199.49  Dry  2226.67      27.18     NaN       NaN   NaN\n",
              "19   B4   Tarbert  2063.60  Oil  2069.51       5.91  0.1921   22.0153  0.71"
            ]
          },
          "metadata": {},
          "execution_count": 98
        }
      ]
    },
    {
      "cell_type": "markdown",
      "metadata": {
        "id": "cv_GvrxuJzIW"
      },
      "source": [
        "Di atas terlihat kalau ada zona yang tidak memiliki properti (Zona Etive). Bisa jadi zona ini masih belum masuk dalam rencana pengembangan sehingga bisa kita hapus terlebih dahulu. Selain itu, di sini kita bisa melakukan perhitungan net reservoir atau net sand. Jadi, Thickness itu masih ketebalan kotor dan bisa saja didalamnya bukan minyak atau zona yang menarik. "
      ]
    },
    {
      "cell_type": "code",
      "metadata": {
        "colab": {
          "base_uri": "https://localhost:8080/",
          "height": 204
        },
        "id": "WfliGL3r7d1W",
        "outputId": "67ba747f-f5b2-4ddd-91e0-09b336983d04"
      },
      "source": [
        "df2.dropna(subset = ['PHIE', 'Perm', 'NTG'], inplace=True)\n",
        "df2.reset_index(drop=True, inplace=True)\n",
        "df2['Net_Sand'] = df2['Thickness'] * df2['NTG']\n",
        "df2.head()"
      ],
      "execution_count": null,
      "outputs": [
        {
          "output_type": "execute_result",
          "data": {
            "text/html": [
              "<div>\n",
              "<style scoped>\n",
              "    .dataframe tbody tr th:only-of-type {\n",
              "        vertical-align: middle;\n",
              "    }\n",
              "\n",
              "    .dataframe tbody tr th {\n",
              "        vertical-align: top;\n",
              "    }\n",
              "\n",
              "    .dataframe thead th {\n",
              "        text-align: right;\n",
              "    }\n",
              "</style>\n",
              "<table border=\"1\" class=\"dataframe\">\n",
              "  <thead>\n",
              "    <tr style=\"text-align: right;\">\n",
              "      <th></th>\n",
              "      <th>Well</th>\n",
              "      <th>Surface</th>\n",
              "      <th>MD</th>\n",
              "      <th>Prod</th>\n",
              "      <th>MD_Bot</th>\n",
              "      <th>Thickness</th>\n",
              "      <th>PHIE</th>\n",
              "      <th>Perm</th>\n",
              "      <th>NTG</th>\n",
              "      <th>Net_Sand</th>\n",
              "    </tr>\n",
              "  </thead>\n",
              "  <tbody>\n",
              "    <tr>\n",
              "      <th>0</th>\n",
              "      <td>A10</td>\n",
              "      <td>Tarbert</td>\n",
              "      <td>1754.67</td>\n",
              "      <td>Oil</td>\n",
              "      <td>1807.02</td>\n",
              "      <td>52.35</td>\n",
              "      <td>0.2468</td>\n",
              "      <td>105.2969</td>\n",
              "      <td>0.68</td>\n",
              "      <td>35.5980</td>\n",
              "    </tr>\n",
              "    <tr>\n",
              "      <th>1</th>\n",
              "      <td>A10</td>\n",
              "      <td>Tarbert2</td>\n",
              "      <td>1829.32</td>\n",
              "      <td>Dry</td>\n",
              "      <td>1842.11</td>\n",
              "      <td>12.79</td>\n",
              "      <td>0.0870</td>\n",
              "      <td>94.0645</td>\n",
              "      <td>0.23</td>\n",
              "      <td>2.9417</td>\n",
              "    </tr>\n",
              "    <tr>\n",
              "      <th>2</th>\n",
              "      <td>A10</td>\n",
              "      <td>Tarbert1</td>\n",
              "      <td>1843.91</td>\n",
              "      <td>Dry</td>\n",
              "      <td>1852.70</td>\n",
              "      <td>8.79</td>\n",
              "      <td>0.0870</td>\n",
              "      <td>69.8877</td>\n",
              "      <td>0.00</td>\n",
              "      <td>0.0000</td>\n",
              "    </tr>\n",
              "    <tr>\n",
              "      <th>3</th>\n",
              "      <td>A10</td>\n",
              "      <td>Ness</td>\n",
              "      <td>1856.40</td>\n",
              "      <td>Oil</td>\n",
              "      <td>1878.07</td>\n",
              "      <td>21.67</td>\n",
              "      <td>0.2670</td>\n",
              "      <td>133.8301</td>\n",
              "      <td>0.74</td>\n",
              "      <td>16.0358</td>\n",
              "    </tr>\n",
              "    <tr>\n",
              "      <th>4</th>\n",
              "      <td>A15</td>\n",
              "      <td>Tarbert</td>\n",
              "      <td>1879.35</td>\n",
              "      <td>Oil</td>\n",
              "      <td>1883.33</td>\n",
              "      <td>3.98</td>\n",
              "      <td>0.2198</td>\n",
              "      <td>375.4153</td>\n",
              "      <td>0.83</td>\n",
              "      <td>3.3034</td>\n",
              "    </tr>\n",
              "  </tbody>\n",
              "</table>\n",
              "</div>"
            ],
            "text/plain": [
              "  Well   Surface       MD Prod  ...    PHIE      Perm   NTG  Net_Sand\n",
              "0  A10   Tarbert  1754.67  Oil  ...  0.2468  105.2969  0.68   35.5980\n",
              "1  A10  Tarbert2  1829.32  Dry  ...  0.0870   94.0645  0.23    2.9417\n",
              "2  A10  Tarbert1  1843.91  Dry  ...  0.0870   69.8877  0.00    0.0000\n",
              "3  A10      Ness  1856.40  Oil  ...  0.2670  133.8301  0.74   16.0358\n",
              "4  A15   Tarbert  1879.35  Oil  ...  0.2198  375.4153  0.83    3.3034\n",
              "\n",
              "[5 rows x 10 columns]"
            ]
          },
          "metadata": {},
          "execution_count": 99
        }
      ]
    },
    {
      "cell_type": "markdown",
      "metadata": {
        "id": "z_LQrvjCGz-c"
      },
      "source": [
        "Sebenarnya sampai di sini tugas saya sudah selesai. Tapi, karena data Science harus bisa *story telling,* maka saya akan menambahkan sedikit cerita seputar pekerjaan saya di kantor."
      ]
    },
    {
      "cell_type": "markdown",
      "metadata": {
        "id": "T3mu4Fw5PQr6"
      },
      "source": [
        "Saat melakukan pemodelan geologi, biasanya grid yang dihasilkan bisa sampai jutaan dan hal ini akan sangat memakan waktu ketika tim reservoir melakukan simulasi. Jadi biasanya, kita menggunakan nilai cutoff. Nilai ini menjadi ambang batas apakah properti tersebut menarik atau tidak pada angka tertentu. Untuk mencarinya, terlihat dari tabel kalau PHIE di bawah 0.1, maka sumurnya tidak ada yang menghasilkan minyak. Jadi di sini, saya memasang cut off di 0.1 agar ketika ada grid yang memiliki nilai di bawah 0.1, maka tidak akan diproses perhitungannya."
      ]
    },
    {
      "cell_type": "code",
      "metadata": {
        "colab": {
          "base_uri": "https://localhost:8080/",
          "height": 623
        },
        "id": "fMZc59kqD9FO",
        "outputId": "8599883c-f4a7-4abc-9db0-79642734c867"
      },
      "source": [
        "fig, ax = plt.subplots(1,2,figsize=(30,10))\n",
        "\n",
        "##Plot 1\n",
        "phie_vs_nets = sns.scatterplot(data=df2, x='Net_Sand', y='PHIE', hue = 'Prod', ax = ax[0], s = 90)\n",
        "phie_vs_nets.axhline(y=0.1, color='r', linestyle='--')\n",
        "##Plot 2\n",
        "phie_vs_perm = sns.scatterplot(data=df2, x='PHIE', y='Perm', hue = 'Surface', ax = ax[1], s = 90)\n",
        "phie_vs_perm.set(yscale=\"log\")\n",
        "phie_vs_perm.axvline(x=0.1, color='r', linestyle='--')"
      ],
      "execution_count": null,
      "outputs": [
        {
          "output_type": "execute_result",
          "data": {
            "text/plain": [
              "<matplotlib.lines.Line2D at 0x7f754d805a10>"
            ]
          },
          "metadata": {},
          "execution_count": 115
        },
        {
          "output_type": "display_data",
          "data": {
            "image/png": "[encoded data removed]",
            "text/plain": [
              "<Figure size 2160x720 with 2 Axes>"
            ]
          },
          "metadata": {
            "needs_background": "light"
          }
        }
      ]
    },
    {
      "cell_type": "markdown",
      "metadata": {
        "id": "X5ux9R_uPrBP"
      },
      "source": [
        "Terlihat juga di gambar kanan bahwa zona Tarbert 2 dan Tarbert 1 tidak menarik untuk dikembangkan. Karena alasan ini, kita bisa fokus ke Tarbert untuk dilakukan pengembangan karena nilai Permeabilitas dan Porositas yang tinggi."
      ]
    },
    {
      "cell_type": "markdown",
      "metadata": {
        "id": "kpUI5GyqOxvJ"
      },
      "source": [
        "Saat melakukan pemodelan geologi, biasanya grid yang dihasilkan bisa sampai jutaan dan hal ini akan sangat memakan waktu ketika tim reservoir melakukan simulasi. Jadi biasanya, kita menggunakan nilai cutoff."
      ]
    }
  ]
}